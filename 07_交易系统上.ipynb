{
 "cells": [
  {
   "cell_type": "markdown",
   "metadata": {},
   "source": [
    "# 1. 极简NLP和量化建模课程\n",
    "**机器学习基于统计学**\n",
    "\n",
    "## 1.1 NLP自然语言处理\n",
    "1. 朴素贝叶斯\n",
    "2. jieba进行分词 ==> NLP进行分词，产生一个字典\n",
    "3. 有价值的东西出现次数最少的词频\n",
    "\n",
    "## 1.2 模型假设\n",
    "1. 在多少文档中，某个词出现的次数，是如何影响大盘或者股票的\n",
    "2. skip-thought mode sentence2vec\n",
    "3. 加入人工干预，固定两个列表==>涨和跌的，去掉停止词，废话\n",
    "4. 用经过验证的模型\n",
    "\n",
    "## 1.3 CV计算机视觉处理\n",
    "\n",
    "\n",
    "\n",
    "------\n",
    "# 2. 风险控制part1\n",
    "## 2.1 度量策略好坏\n",
    "1. 跟模型的预测是两类事情 ==> 落实到money\n",
    "2. PnL\n",
    "3. 风险是方差 ==> 针对方差的转换\n",
    "4. sharp ratio ==> 什么意思\n",
    "5. 资金的分配\n",
    "6. 凯迪公式\n",
    "\n",
    "------\n",
    "# 3. 基于事件驱动的量化交易系统\n",
    "## 3.1 本身是一个无限循环"
   ]
  },
  {
   "cell_type": "code",
   "execution_count": null,
   "metadata": {},
   "outputs": [],
   "source": [
    "while True:\n",
    "    # 监听事件，放到队列\n",
    "    new_event = get_new_event() \n",
    "    \n",
    "    if new_event.someting == \"whaterver\":\n",
    "        do_something()\n",
    "    if new_event.someting == \"all right\"：\n",
    "        do_something()\n",
    "        \n",
    "    tick(50) # wait 50 milliseconds， heartbeat"
   ]
  }
 ],
 "metadata": {
  "kernelspec": {
   "display_name": "Python 3",
   "language": "python",
   "name": "python3"
  },
  "language_info": {
   "codemirror_mode": {
    "name": "ipython",
    "version": 3
   },
   "file_extension": ".py",
   "mimetype": "text/x-python",
   "name": "python",
   "nbconvert_exporter": "python",
   "pygments_lexer": "ipython3",
   "version": "3.7.0"
  }
 },
 "nbformat": 4,
 "nbformat_minor": 2
}
