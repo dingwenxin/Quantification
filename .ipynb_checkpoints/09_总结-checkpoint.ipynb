{
 "cells": [
  {
   "cell_type": "markdown",
   "metadata": {},
   "source": [
    "# 1. \n",
    "\n",
    "# 2. 推荐课程 \n",
    "http://open.163.com/special/opencourse/equations.html\n",
    "http://open.163.com/special/opencourse/multivariable.html\n",
    "http://wiki.quantsoftware.org/index.php?title=ML4Trading\n",
    "\n",
    "# 斯坦福大学公开课：编程范式\n",
    "\n",
    "# 麻省理工公开课：线性代数\n",
    "\n",
    "# 3. 书\n",
    "1. 高性能python\n",
    "2. 机器学习实战/机器学习系统设计\n",
    "3. 期货市场技术分析，主动投资组合管理，可视化量化金融\n",
    "4. python金融大数据分析\n",
    "5. 代码之髓 effective python 编程珠玑\n",
    "6. python编程快速入手-让繁琐工程自动化\n",
    "7. learn python the hard way\n",
    "\n",
    "introduction to statistical learning ===> elements of statistical learning\n",
    "图解机器学习\n",
    "\n",
    "# 4. 简历\n",
    "1. 主简历 ==> 要经常性更新\n",
    "2. 针对不同岗位，根据主简历写自己的内容\n",
    "\n",
    "# 5. 和自己像个的github ===> 联系方式，微博，个人主页等之类的 ==> 提前半年准备自己的内容\n",
    "\n",
    "# 6. 介绍\n",
    "1. 自己的领导和团队的能力\n",
    "2. 自己的主动能力\n",
    "3. 对问题的解决、计划和组织\n",
    "4. 自己遇到的困难和失败 ==> 随机性的问题，某个问题遭遇到了危机，自己如何解决困难\n",
    "\n",
    "## 6.1 自己的叙述应该包括：\n",
    "\n",
    "\n",
    "## 6.2 finance interviews  ===> vault guide to\n",
    "\n",
    "## 6.3 过拟合问题 ==> 没有充分准备前，不要吹牛 ==> 挑你自己懂得 ==> 正则化问题\n",
    "\n",
    "## 6.4 随机梯度下降\n",
    "\n",
    "## 6.5 logistics 回归\n",
    "\n",
    "## 6.6 SVM相关\n",
    "\n",
    "\n",
    "1. =====> 6个月的时间 去维护自己的github，微博，网站，建立自己的个人品牌，github pages ===> 建立自己的体系\n",
    "2. ====> 王不二\n",
    "https://blog.csdn.net/xudailong_blog/article/details/78762262"
   ]
  }
 ],
 "metadata": {
  "kernelspec": {
   "display_name": "Python 3",
   "language": "python",
   "name": "python3"
  },
  "language_info": {
   "codemirror_mode": {
    "name": "ipython",
    "version": 3
   },
   "file_extension": ".py",
   "mimetype": "text/x-python",
   "name": "python",
   "nbconvert_exporter": "python",
   "pygments_lexer": "ipython3",
   "version": "3.6.6"
  }
 },
 "nbformat": 4,
 "nbformat_minor": 2
}
