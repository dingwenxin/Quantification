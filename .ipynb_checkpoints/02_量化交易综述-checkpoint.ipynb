{
 "cells": [
  {
   "cell_type": "markdown",
   "metadata": {},
   "source": [
    "# 1. CAPM Model\n",
    "## 1.1 Portfolio资产组合\n",
    "[a%，b%, c%] = \n",
    "abs(a%) + abs(b%) + abs(c%) = 100%\n",
    "\n",
    "## 1.2 Market Portfolio\n",
    "基本状态的指标\n",
    "\n",
    "## 1.3 个股的CAPM model\n",
    "在t时刻，某只股票的收益 = t时刻整个市场的收益 * 系数 + 小的差值\n",
    "ri(t个股) = betai * rm(t大盘) + alphai(t)\n",
    "\n",
    "差值的期望值为0\n",
    "E(alphai(t)) ===> 总和为0\n",
    "\n",
    "研究ri(t)==Y = f(x) + 噪声(正态分布的一个随机采样) ==> 认为是线性的/非线性\n",
    "\n",
    "CAPM是现行模型==>金融模型\n",
    "\n",
    "## 1.4 被动式管理 VS 主动式管理\n",
    "被动式管理：复制大盘指数，持有\n",
    "主动式管理：选择个股，频繁交易\n",
    "\n",
    "关键分歧:\n",
    "alpha是否是随机噪声，\n",
    "\n",
    "## 1.5 投资组合的CAPM模型\n",
    "scatter plot\n",
    "\n",
    "## 1.6 几个推论\n",
    "E(alpha) = 0\n",
    "\n",
    "选择好的beta值：牛市是大beta，熊市是小beta\n",
    "如果市场有效假设成立，我们无法预测股市，也选不出来合适的beta\n",
    "\n",
    "-------\n",
    "# 2. 价格套利理论(APT) ==> 大盘和个股的关系\n",
    "Beta不是常数，而是一个变量，即个股和每个版块的关系\n",
    "\n",
    "------\n",
    "# 3. 技术分析 vs 基本面分析\n",
    "历史数据：\n",
    "1. 价格，交易量\n",
    "2. 计算指标(features)\n",
    "3. 启发式选择(经验，机器学习)  ===> 遗传算法找指标\n",
    "\n",
    "## 3.1 技术分析何时works\n",
    "1. 多个指标的非线性组合(机器学习)\n",
    "2. 短时 ==> 最好是当天\n",
    "3. 异类检测 ===> 找出股票和大盘不一致，才能挣钱\n",
    "\n",
    "## 3.2 Trading time horizon\n",
    "1. 随着时间越来越久，影响越来越小 ==> 技术分析\n",
    "2. 随着时间越来越久，影响越来越大 ==> 基本面分析\n",
    "\n",
    "## 3.3 最基本的指标以及机器学习如何介入\n",
    "1. Momentum 动量线 ==> **公式？？**\n",
    "2. SMA:Simple Moving Average, (smooth, lagged).... 可以看做一种滤波器\n",
    "3. BB(bollinger bands)==>BOLL指标，决策边界是**两个标准差** ==> 鲁棒性\n",
    "\n",
    "## 3.4 归一化\n",
    "1. SMA(-0.5, 0.5)\n",
    "2. Mom(-0.5, 0.5)\n",
    "3. BB(-1, +1)\n",
    "\n",
    "Norm = (value - mean)/values.std()\n",
    "\n",
    "------\n",
    "# 4. KNN(K-近邻) ==> 维度灾难\n",
    "MSE理论最小==> bias-variance trade-off\n",
    "\n",
    "element's of statistical learning"
   ]
  },
  {
   "cell_type": "code",
   "execution_count": 2,
   "metadata": {},
   "outputs": [],
   "source": [
    "import sklearn as sl"
   ]
  },
  {
   "cell_type": "code",
   "execution_count": null,
   "metadata": {},
   "outputs": [],
   "source": []
  },
  {
   "cell_type": "code",
   "execution_count": null,
   "metadata": {},
   "outputs": [],
   "source": []
  }
 ],
 "metadata": {
  "kernelspec": {
   "display_name": "Python 3",
   "language": "python",
   "name": "python3"
  },
  "language_info": {
   "codemirror_mode": {
    "name": "ipython",
    "version": 3
   },
   "file_extension": ".py",
   "mimetype": "text/x-python",
   "name": "python",
   "nbconvert_exporter": "python",
   "pygments_lexer": "ipython3",
   "version": "3.7.0"
  }
 },
 "nbformat": 4,
 "nbformat_minor": 2
}
