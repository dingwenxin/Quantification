{
 "cells": [
  {
   "cell_type": "markdown",
   "metadata": {},
   "source": [
    "# 1. 特征值、特征向量、谱定理，逆矩阵，正交阵\n",
    "1. NIPS KDD AAAI IJCAI ICML ==> 几大计算机会议\n",
    "2. 能分解就能合成\n",
    "3. PCA只选择最大的\n",
    "4. 协方差是选择某个区间内的，在给定协方差的矩阵中去掉随机的\n",
    "\n",
    "# 2. SVD\n",
    "\n",
    "# 3. MIT线性代数\n",
    "\n",
    "# 4. 协方差矩阵 ==> 方阵 ===> 对称\n",
    "\n",
    "# 5. 选择结果第二个\n",
    "\n",
    "# 6. 斯坦福公开课 ==> 凸优化\n",
    "\n",
    "# 7. 数据选择 ==> 五年以内\n",
    "\n",
    "# 8. 金融学投资组合理论\n",
    "\n",
    "# 9. 基于随机矩阵的理论 ==> 正态分布\n",
    "1. 股票是随机游走 ==> 高斯分布选出来的\n",
    "2. Marchenko-Pastur分布 ==> 目的是去掉随机因素，大于1的留着，0.5-0.8的去掉(设置为0) ==> 从新算一个协方差矩阵\n",
    "3. fitered minimum variance \n",
    "4. subject to ==> 缩写\n",
    "5. KNL\n",
    "6. 非理性投资\n",
    "7. Rearch Quant\n",
    "8. i7 ==> 64G ==> 1080(GPU)\n",
    "9. NLTK\n",
    "10. GENSIM"
   ]
  }
 ],
 "metadata": {
  "kernelspec": {
   "display_name": "Python 3",
   "language": "python",
   "name": "python3"
  },
  "language_info": {
   "codemirror_mode": {
    "name": "ipython",
    "version": 3
   },
   "file_extension": ".py",
   "mimetype": "text/x-python",
   "name": "python",
   "nbconvert_exporter": "python",
   "pygments_lexer": "ipython3",
   "version": "3.6.6"
  }
 },
 "nbformat": 4,
 "nbformat_minor": 2
}
