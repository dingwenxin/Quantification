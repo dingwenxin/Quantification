{
 "cells": [
  {
   "cell_type": "markdown",
   "metadata": {},
   "source": [
    "# 1. 机器学习种类\n",
    "http://sklearn.apachecn.org/#/  ===> sklearn的网站\n",
    "https://scikit-learn.org/stable/tutorial/text_analytics/working_with_text_data.html#loading-the-20-newsgroups-dataset\n",
    "## 1.1 监督学习\n",
    "### 1.1.1 分类\n",
    "\n",
    "### 1.1.2 回归\n",
    "\n",
    "### 1.1.3 监督学习的流程\n",
    "\n",
    "\n",
    "------\n",
    "## 1.2 非监督学习\n",
    "### 1.2.1 使用聚类的方法进行分类\n",
    "\n",
    "### 1.2.2 降维\n",
    "流型嵌入\n",
    "PCA(50维度) ==> TSNE(2维度)\n",
    "\n",
    "Digits ==> 手写矩阵\n",
    "\n",
    "岭回归和lasso(0.15)，也就是为了防止过拟合的L1(绝对值)/L2(平方)的正则化表示\n",
    "\n",
    "### 1.2.3 核方法\n",
    "1. 把x映射到高维空间\n",
    "2. K-means聚类  ===> 损失函数\n",
    "3. 高斯RBF核方法，点乘\n",
    "4. 泰勒级数\n",
    "5. 傅里叶变换 ===> 时间序列很有用 ==> 信号处理\n",
    "\n",
    "### 1.2.4 超参数选择 ==> 贝叶斯方法来处理\n",
    "1. holdout evaluation\n",
    "2. 70%训练+15%验证(算超参数)，70%+%15+超参数(预测)\n",
    "3. grid search\n",
    "4. 启发式算法\n",
    "5. 奥卡姆剃刀原则\n",
    "6. https://stockcharts.com/school/doku.php?id=chart_school:technical_indicators\n",
    "\n",
    "## 1.3 强化学习\n",
    "\n"
   ]
  }
 ],
 "metadata": {
  "kernelspec": {
   "display_name": "Python 3",
   "language": "python",
   "name": "python3"
  },
  "language_info": {
   "codemirror_mode": {
    "name": "ipython",
    "version": 3
   },
   "file_extension": ".py",
   "mimetype": "text/x-python",
   "name": "python",
   "nbconvert_exporter": "python",
   "pygments_lexer": "ipython3",
   "version": "3.6.6"
  }
 },
 "nbformat": 4,
 "nbformat_minor": 2
}
